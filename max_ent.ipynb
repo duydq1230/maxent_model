{
 "cells": [
  {
   "cell_type": "code",
   "execution_count": 79,
   "metadata": {
    "collapsed": false
   },
   "outputs": [
    {
     "name": "stdout",
     "output_type": "stream",
     "text": [
      "\n"
     ]
    }
   ],
   "source": [
    "import os\n",
    "import io\n",
    "import numpy as np\n",
    "import random\n",
    "import re"
   ]
  },
  {
   "cell_type": "code",
   "execution_count": 80,
   "metadata": {
    "collapsed": true
   },
   "outputs": [],
   "source": [
    "def unique(arr, dic=None):\n",
    "    if (dic is None):\n",
    "        dic = {}\n",
    "    for el in arr:\n",
    "        if isinstance(el, list):\n",
    "            unique(el, dic)\n",
    "        else:\n",
    "            if (el not in dic):\n",
    "                dic[el] = 1\n",
    "            else:\n",
    "                dic[el] += 1\n",
    "    return np.array(dic.keys())"
   ]
  },
  {
   "cell_type": "markdown",
   "metadata": {},
   "source": [
    "Классификация будет происходить по след формуле:\n",
    "$$p(c\\mid d,\\lambda)=\\frac\n",
    "{\\exp\\sum_i^{n \\times k}{\\lambda_i}f_i\\left(c,d\\right )}\n",
    "{\\sum_{\\tilde{c}\\in C}{\\exp\\sum_i^{n \\times k}{\\lambda_i}f_i\\left(\\tilde{c},d\\right )}}$$"
   ]
  },
  {
   "cell_type": "code",
   "execution_count": 81,
   "metadata": {
    "collapsed": true
   },
   "outputs": [],
   "source": [
    "def predict(x, weights, feature_patterns, n_classes):\n",
    "    # начальное приведение\n",
    "    probas = np.ones(n_classes) * np.log(1.0 / n_classes)\n",
    "\n",
    "    # считаем условные вероятности\n",
    "    for xi in x:\n",
    "        for i in xrange(len(feature_patterns[xi])):\n",
    "            probas[feature_patterns[xi][i]] += weights[xi][i]\n",
    "\n",
    "    # далее сглаживаем выходы через softmax\n",
    "    probas = np.exp(probas / n_classes)\n",
    "    return probas / np.sum(probas)"
   ]
  },
  {
   "cell_type": "markdown",
   "metadata": {},
   "source": [
    "Задачу будем решать с помощью максимизации функции правдоподобия\n",
    "$$\\log p(C|D,\\lambda)\n",
    "=\\sum_{(c,d)\\in(C,D)}\\log p(c|d,\\lambda)\n",
    "=\\sum_{(c,d)\\in(C,D)}\\log\\frac\n",
    "{\\exp\\sum_i^{n \\times k}{\\lambda_i}f_i\\left(c,d\\right )}\n",
    "{\\sum_{\\tilde{c}\\in C}{\\exp\\sum_i^{n \\times k}{\\lambda_i}f_i\\left(\\tilde{c},d\\right )}}$$"
   ]
  },
  {
   "cell_type": "markdown",
   "metadata": {},
   "source": [
    "Соответственно градиент у нас будет в частных производных\n",
    "\n",
    "$$\\frac{\\partial\\log p(C|D,\\lambda)}{\\partial\\lambda_i}=\n",
    "\\sum_{(c,d)\\in(C,D)}{f_i(c,d)}-\n",
    "\\sum_{d\\in D}{\\sum_{c\\in C}{p(c|d,\\lambda)f_i(c,d)}}$$"
   ]
  },
  {
   "cell_type": "code",
   "execution_count": 82,
   "metadata": {
    "collapsed": false
   },
   "outputs": [],
   "source": [
    "def fit(X, y, f_count, c_count, alpha=0.85, max_iter=100, tol=0.00001, random_state=None, verbose=1):\n",
    "    n_samples = len(X)\n",
    "    if random_state is not None:\n",
    "        random.seed(random_state)\n",
    "\n",
    "#     # определяем сколько у нас уникальных токенов\n",
    "#     features = unique(X)\n",
    "#     f_count = features.shape[0]\n",
    "#     # определяем сколько у нас уникальных классов\n",
    "#     classes = unique(y)\n",
    "#     c_count = classes.shape[0]\n",
    "\n",
    "    # матрица индикаторов(условных признаков)\n",
    "    feature_patterns = [[] for _ in range(f_count)]\n",
    "    f_pattern_set = {}\n",
    "    # матрица весов индикаторов\n",
    "    weights = [[] for _ in range(f_count)]\n",
    "\n",
    "    # инициализация индикаторов\n",
    "    for i in range(n_samples):\n",
    "        for xi in X[i]:\n",
    "            if xi not in f_pattern_set:\n",
    "                f_pattern_set[xi] = set()\n",
    "            if y[i] not in f_pattern_set[xi]:\n",
    "                f_pattern_set[xi].add(y[i])\n",
    "                weights[xi].append(0.0)\n",
    "                feature_patterns[xi].append(y[i])\n",
    "    prev_logl = 0.\n",
    "    iter_num = 0\n",
    "    all_iter = 0\n",
    "    # ограничим сверху max_iter итерациями\n",
    "    for iter_num in range(max_iter):\n",
    "        if verbose:\n",
    "            print 'Start iteration #%d\\t' % iter_num,\n",
    "\n",
    "        logl = 0.\n",
    "        ncorrect = 0\n",
    "\n",
    "        # random прохождение существенно улучшает схождение SGD\n",
    "        r = range(n_samples)\n",
    "        r = random.sample(r, n_samples)\n",
    "        iter_sample = 0\n",
    "        for i in r:\n",
    "            iter_sample += 1\n",
    "            if verbose and (n_samples < 20 or iter_sample % (n_samples / 20) == 0):\n",
    "                print '.',\n",
    "\n",
    "            all_iter += 1\n",
    "            eta = alpha ** (all_iter / n_samples)\n",
    "            # предсказываем вероятности\n",
    "            probas = predict(X[i], weights, feature_patterns, c_count)\n",
    "\n",
    "            # смотрим, правильно ли мы предсказали, это нужно только для verbose\n",
    "            if np.argmax(probas) == y[i]:\n",
    "                ncorrect += 1\n",
    "            # считаем \"правдоподобие\"\n",
    "            logl += np.log(probas[y[i]])\n",
    "\n",
    "            # обновляем веса\n",
    "            for j in range(len(X[i])):\n",
    "                conditional_y = feature_patterns[X[i][j]]\n",
    "                for y_i in xrange(len(conditional_y)):\n",
    "                    # ожидание\n",
    "                    expected_ent = 1.0 if conditional_y[y_i] == y[i] else 0.0\n",
    "                    # реальность\n",
    "                    max_ent = probas[conditional_y[y_i]]\n",
    "                    weights[X[i][j]][y_i] -= 1.0 * (max_ent - expected_ent) * eta  #\n",
    "        logl /= n_samples\n",
    "        if verbose:\n",
    "            print '\\tAccuracy: %.5f, Loss: %.8f' % (1.0 * ncorrect / n_samples, logl - prev_logl)\n",
    "        if iter_num > 0:\n",
    "            if prev_logl > logl:\n",
    "                break\n",
    "            if (logl - prev_logl) < tol:\n",
    "                break\n",
    "        prev_logl = logl\n",
    "    print iter_num\n",
    "    return weights, feature_patterns"
   ]
  },
  {
   "cell_type": "code",
   "execution_count": 83,
   "metadata": {
    "collapsed": false
   },
   "outputs": [
    {
     "name": "stdout",
     "output_type": "stream",
     "text": [
      "Start iteration #0\t. . . . . . . . . . \tAccuracy: 0.60000, Loss: -0.60526129\n",
      "Start iteration #1\t. . . . . . . . . . \tAccuracy: 0.90000, Loss: 0.20063741\n",
      "Start iteration #2\t. . . . . . . . . . \tAccuracy: 0.80000, Loss: 0.06545258\n",
      "Start iteration #3\t. . . . . . . . . . \tAccuracy: 0.80000, Loss: 0.05397611\n",
      "Start iteration #4\t. . . . . . . . . . \tAccuracy: 0.90000, Loss: 0.01620616\n",
      "Start iteration #5\t. . . . . . . . . . \tAccuracy: 0.90000, Loss: 0.02002232\n",
      "Start iteration #6\t. . . . . . . . . . \tAccuracy: 0.80000, Loss: 0.00280563\n",
      "Start iteration #7\t. . . . . . . . . . \tAccuracy: 0.80000, Loss: 0.00730941\n",
      "Start iteration #8\t. . . . . . . . . . \tAccuracy: 0.90000, Loss: 0.00851610\n",
      "Start iteration #9\t. . . . . . . . . . \tAccuracy: 0.80000, Loss: 0.00558762\n",
      "Start iteration #10\t. . . . . . . . . . \tAccuracy: 0.90000, Loss: 0.00503475\n",
      "Start iteration #11\t. . . . . . . . . . \tAccuracy: 0.90000, Loss: 0.00303843\n",
      "Start iteration #12\t. . . . . . . . . . \tAccuracy: 0.90000, Loss: 0.00316305\n",
      "Start iteration #13\t. . . . . . . . . . \tAccuracy: 0.80000, Loss: 0.00242173\n",
      "Start iteration #14\t. . . . . . . . . . \tAccuracy: 0.90000, Loss: 0.00172831\n",
      "Start iteration #15\t. . . . . . . . . . \tAccuracy: 0.90000, Loss: 0.00170887\n",
      "Start iteration #16\t. . . . . . . . . . \tAccuracy: 0.80000, Loss: 0.00155777\n",
      "Start iteration #17\t. . . . . . . . . . \tAccuracy: 0.90000, Loss: 0.00117668\n",
      "Start iteration #18\t. . . . . . . . . . \tAccuracy: 0.90000, Loss: 0.00090309\n",
      "Start iteration #19\t. . . . . . . . . . \tAccuracy: 0.90000, Loss: 0.00085772\n",
      "Start iteration #20\t. . . . . . . . . . \tAccuracy: 0.90000, Loss: 0.00069259\n",
      "Start iteration #21\t. . . . . . . . . . \tAccuracy: 0.90000, Loss: 0.00060942\n",
      "Start iteration #22\t. . . . . . . . . . \tAccuracy: 0.90000, Loss: 0.00051695\n",
      "Start iteration #23\t. . . . . . . . . . \tAccuracy: 0.90000, Loss: 0.00041376\n",
      "Start iteration #24\t. . . . . . . . . . \tAccuracy: 0.90000, Loss: 0.00036240\n",
      "Start iteration #25\t. . . . . . . . . . \tAccuracy: 0.90000, Loss: 0.00031482\n",
      "Start iteration #26\t. . . . . . . . . . \tAccuracy: 0.90000, Loss: 0.00025919\n",
      "Start iteration #27\t. . . . . . . . . . \tAccuracy: 0.90000, Loss: 0.00022155\n",
      "Start iteration #28\t. . . . . . . . . . \tAccuracy: 0.90000, Loss: 0.00019015\n",
      "Start iteration #29\t. . . . . . . . . . \tAccuracy: 0.90000, Loss: 0.00015821\n",
      "Start iteration #30\t. . . . . . . . . . \tAccuracy: 0.90000, Loss: 0.00013618\n",
      "Start iteration #31\t. . . . . . . . . . \tAccuracy: 0.90000, Loss: 0.00011225\n",
      "Start iteration #32\t. . . . . . . . . . \tAccuracy: 0.90000, Loss: 0.00009691\n",
      "Start iteration #33\t. . . . . . . . . . \tAccuracy: 0.90000, Loss: 0.00008133\n",
      "Start iteration #34\t. . . . . . . . . . \tAccuracy: 0.90000, Loss: 0.00007122\n",
      "Start iteration #35\t. . . . . . . . . . \tAccuracy: 0.90000, Loss: 0.00005962\n",
      "Start iteration #36\t. . . . . . . . . . \tAccuracy: 0.90000, Loss: 0.00005084\n",
      "Start iteration #37\t. . . . . . . . . . \tAccuracy: 0.90000, Loss: 0.00004298\n",
      "Start iteration #38\t. . . . . . . . . . \tAccuracy: 0.90000, Loss: 0.00003654\n",
      "Start iteration #39\t. . . . . . . . . . \tAccuracy: 0.90000, Loss: 0.00003121\n",
      "Start iteration #40\t. . . . . . . . . . \tAccuracy: 0.90000, Loss: 0.00002702\n",
      "Start iteration #41\t. . . . . . . . . . \tAccuracy: 0.90000, Loss: 0.00002236\n",
      "Start iteration #42\t. . . . . . . . . . \tAccuracy: 0.90000, Loss: 0.00001916\n",
      "Start iteration #43\t. . . . . . . . . . \tAccuracy: 0.90000, Loss: 0.00001628\n",
      "Start iteration #44\t. . . . . . . . . . \tAccuracy: 0.90000, Loss: 0.00001375\n",
      "Start iteration #45\t. . . . . . . . . . \tAccuracy: 0.90000, Loss: 0.00001164\n",
      "Start iteration #46\t. . . . . . . . . . \tAccuracy: 0.90000, Loss: 0.00001002\n",
      "Start iteration #47\t. . . . . . . . . . \tAccuracy: 0.90000, Loss: 0.00000866\n",
      "47\n",
      "[ 0.96695421  0.03304579]\n"
     ]
    }
   ],
   "source": [
    "# небольшой тест\n",
    "X = [[0, 1],\n",
    "     [2, 1],\n",
    "     [2, 3],\n",
    "     [2, 1],\n",
    "     [0, 1],\n",
    "     [2, 1, 4],\n",
    "     [2, 3, 4],\n",
    "     [2, 1, 5],\n",
    "     [0, 3, 5],\n",
    "     [0, 1, 5]]\n",
    "\n",
    "y = [0, 0, 1, 1, 0, 1, 1, 0, 0, 0]\n",
    "# определяем сколько у нас уникальных токенов\n",
    "features = unique(X)\n",
    "f_count = features.shape[0]\n",
    "# определяем сколько у нас уникальных классов\n",
    "classes = unique(y)\n",
    "c_count = classes.shape[0]\n",
    "weights, patterns = fit(X, y,f_count,c_count, random_state=241)\n",
    "# print weights\n",
    "# print patterns\n",
    "\n",
    "pred = predict([0, 1], weights, patterns,c_count)\n",
    "print pred"
   ]
  },
  {
   "cell_type": "code",
   "execution_count": 84,
   "metadata": {
    "collapsed": false
   },
   "outputs": [],
   "source": [
    "digits_regex = re.compile('\\d')\n",
    "punc_regex = re.compile('[\\%\\(\\)\\-\\/\\:\\;\\<\\>\\«\\»\\,]')\n",
    "delim_regex = re.compile('([\\.])\\s+')"
   ]
  },
  {
   "cell_type": "code",
   "execution_count": 85,
   "metadata": {
    "collapsed": false
   },
   "outputs": [],
   "source": [
    "def read_and_tokenize(foldername):\n",
    "    '''\n",
    "    метод для считывания текстов из файлов папки\n",
    "    здесь применяется довольно простая токенизация\n",
    "    '''\n",
    "\n",
    "    word_counts = {}\n",
    "    tokenized_text = []\n",
    "    for path, subdirs, files in os.walk('data'):\n",
    "        for name in files:\n",
    "            filename = os.path.join(path, name)\n",
    "            with io.open(filename, 'r', encoding='utf-8') as data_file:\n",
    "                for line in data_file:\n",
    "                    if len(line) < 50:\n",
    "                        continue\n",
    "                    text = digits_regex.sub(u'0', line.lower())\n",
    "                    text = punc_regex.sub(u'', text)\n",
    "                    text = delim_regex.sub(r' \\1 ', text)\n",
    "                    for word in text.split():\n",
    "                        if not word:\n",
    "                            continue\n",
    "                        if word not in word_counts:\n",
    "                            word_counts[word] = 1\n",
    "                        else:\n",
    "                            word_counts[word] += 1\n",
    "                        tokenized_text.append(word)\n",
    "    word2index = {}\n",
    "    index2word = []\n",
    "    i = 0\n",
    "    filtered_text = []\n",
    "    for word in tokenized_text:\n",
    "        if word_counts[word] > 10:\n",
    "            if word not in word2index:\n",
    "                word2index[word] = i\n",
    "                index2word.append(word)\n",
    "                i += 1\n",
    "            filtered_text.append(word)\n",
    "\n",
    "\n",
    "    return filtered_text, word2index, index2word"
   ]
  },
  {
   "cell_type": "code",
   "execution_count": 86,
   "metadata": {
    "collapsed": true
   },
   "outputs": [],
   "source": [
    "def generate_train(tokenized_text, word2index,context_len = 4):\n",
    "    '''\n",
    "    метод для генерации обучающих данных\n",
    "    '''\n",
    "    X = []\n",
    "    y = []\n",
    "    for i, y_word in enumerate(tokenized_text):\n",
    "        x = []\n",
    "        for j in range(i - context_len, i):\n",
    "            if (j >= 0):\n",
    "                x_word = tokenized_text[j]\n",
    "                x.append(word2index[x_word])\n",
    "        if (len(x) > 0):\n",
    "            X.append(x)\n",
    "            y.append(word2index[y_word])\n",
    "    return X, y"
   ]
  },
  {
   "cell_type": "code",
   "execution_count": 87,
   "metadata": {
    "collapsed": false
   },
   "outputs": [],
   "source": [
    "tokenized_text, word2index, index2word = read_and_tokenize('data')      "
   ]
  },
  {
   "cell_type": "code",
   "execution_count": 88,
   "metadata": {
    "collapsed": false
   },
   "outputs": [
    {
     "name": "stdout",
     "output_type": "stream",
     "text": [
      "all words: 30706\n",
      "all unique words: 687\n"
     ]
    }
   ],
   "source": [
    "unique_words = len(index2word)\n",
    "print 'all words:', len(tokenized_text)\n",
    "print 'all unique words:', unique_words"
   ]
  },
  {
   "cell_type": "code",
   "execution_count": null,
   "metadata": {
    "collapsed": false
   },
   "outputs": [],
   "source": [
    "context_len = 4\n",
    "X,y = generate_train(tokenized_text, word2index,context_len=context_len)"
   ]
  },
  {
   "cell_type": "code",
   "execution_count": null,
   "metadata": {
    "collapsed": false
   },
   "outputs": [
    {
     "name": "stdout",
     "output_type": "stream",
     "text": [
      "Start iteration #0\t. . . . . . . . . . . . . . . . . . . . \tAccuracy: 0.13092, Loss: -6.41090062\n",
      "Start iteration #1\t. . . . . . . . . . . . . . . . . . . . \tAccuracy: 0.14330, Loss: 0.20587143\n",
      "Start iteration #2\t. . . . . . . . "
     ]
    }
   ],
   "source": [
    "weights, patterns = fit(X, y,unique_words,unique_words,random_state=241,verbose=1)"
   ]
  },
  {
   "cell_type": "code",
   "execution_count": null,
   "metadata": {
    "collapsed": false
   },
   "outputs": [],
   "source": [
    "test = [word2index[u'экономическая'],word2index[u'ситуация']]\n",
    "for i in range(10):\n",
    "    pred = predict(test, weights, patterns,unique_words)\n",
    "    index = np.argmax(pred)\n",
    "    print index2word[index],\n",
    "    test.append(index)\n",
    "    if len(test) > context_len:\n",
    "        del test[0]\n",
    "    print test"
   ]
  }
 ],
 "metadata": {
  "kernelspec": {
   "display_name": "Python 2",
   "language": "python",
   "name": "python2"
  },
  "language_info": {
   "codemirror_mode": {
    "name": "ipython",
    "version": 2
   },
   "file_extension": ".py",
   "mimetype": "text/x-python",
   "name": "python",
   "nbconvert_exporter": "python",
   "pygments_lexer": "ipython2",
   "version": "2.7.11"
  }
 },
 "nbformat": 4,
 "nbformat_minor": 0
}
