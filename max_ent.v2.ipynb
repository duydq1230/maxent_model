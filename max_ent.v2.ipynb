{
 "cells": [
  {
   "cell_type": "code",
   "execution_count": 55,
   "metadata": {
    "collapsed": false
   },
   "outputs": [
    {
     "name": "stdout",
     "output_type": "stream",
     "text": [
      "\n"
     ]
    }
   ],
   "source": [
    "import os\n",
    "import io\n",
    "import numpy as np\n",
    "import random\n",
    "import re"
   ]
  },
  {
   "cell_type": "code",
   "execution_count": 56,
   "metadata": {
    "collapsed": true
   },
   "outputs": [],
   "source": [
    "def unique(arr, dic=None):\n",
    "    if (dic is None):\n",
    "        dic = {}\n",
    "    for el in arr:\n",
    "        if isinstance(el, list):\n",
    "            unique(el, dic)\n",
    "        else:\n",
    "            if (el not in dic):\n",
    "                dic[el] = 1\n",
    "            else:\n",
    "                dic[el] += 1\n",
    "    return dic"
   ]
  },
  {
   "cell_type": "markdown",
   "metadata": {},
   "source": [
    "Классификация будет происходить по след формуле:\n",
    "$$p(c\\mid d,\\lambda)=\\frac\n",
    "{\\exp\\sum_i^{n \\times k}{\\lambda_i}f_i\\left(c,d\\right )}\n",
    "{\\sum_{\\tilde{c}\\in C}{\\exp\\sum_i^{n \\times k}{\\lambda_i}f_i\\left(\\tilde{c},d\\right )}}$$"
   ]
  },
  {
   "cell_type": "code",
   "execution_count": 57,
   "metadata": {
    "collapsed": true
   },
   "outputs": [],
   "source": [
    "def predict(x, weights):\n",
    "    probas = np.dot(x, weights)\n",
    "\n",
    "    # далее сглаживаем выходы через softmax\n",
    "    probas = np.exp(probas, dtype=np.float32)\n",
    "    return probas / probas.sum()"
   ]
  },
  {
   "cell_type": "markdown",
   "metadata": {},
   "source": [
    "Задачу будем решать с помощью максимизации функции правдоподобия\n",
    "$$\\log p(C|D,\\lambda)\n",
    "=\\sum_{(c,d)\\in(C,D)}\\log p(c|d,\\lambda)\n",
    "=\\sum_{(c,d)\\in(C,D)}\\log\\frac\n",
    "{\\exp\\sum_i^{n \\times k}{\\lambda_i}f_i\\left(c,d\\right )}\n",
    "{\\sum_{\\tilde{c}\\in C}{\\exp\\sum_i^{n \\times k}{\\lambda_i}f_i\\left(\\tilde{c},d\\right )}}$$\n",
    "\n",
    "Соответственно градиент у нас будет в частных производных\n",
    "\n",
    "$$\\frac{\\partial\\log p(C|D,\\lambda)}{\\partial\\lambda_i}=\n",
    "\\sum_{(c,d)\\in(C,D)}{f_i(c,d)}-\n",
    "\\sum_{d\\in D}{\\sum_{c\\in C}{p(c|d,\\lambda)f_i(c,d)}}$$"
   ]
  },
  {
   "cell_type": "code",
   "execution_count": 58,
   "metadata": {
    "collapsed": false
   },
   "outputs": [],
   "source": [
    "def fit(X, y, batch_size=64, nb_epoch=10, alpha=0.85, max_iter=100, C=0.1, random_state=None, verbose=1):\n",
    "    \"\"\"\n",
    "\n",
    "    :param X:\n",
    "    :param y:\n",
    "    :param f_count:\n",
    "    :param c_count:\n",
    "    :param batch_size:\n",
    "    :param nb_epoch:\n",
    "    :param alpha:\n",
    "    :param max_iter:\n",
    "    :param C:\n",
    "    :param random_state:\n",
    "    :param verbose:\n",
    "    \"\"\"\n",
    "    n_samples = len(X)\n",
    "\n",
    "    feature_dic = unique(X)\n",
    "    classes_dic = unique(y)\n",
    "    n_features = len(feature_dic)\n",
    "    n_classes = len(classes_dic)\n",
    "\n",
    "    if batch_size is None:\n",
    "        batch_size = n_samples\n",
    "    if batch_size > n_samples:\n",
    "        batch_size = n_samples\n",
    "    if random_state is not None:\n",
    "        random.seed(random_state)\n",
    "\n",
    "    # матрица весов индикаторов\n",
    "    weights = np.zeros((n_features, n_classes), dtype=np.float32)\n",
    "    features = np.zeros((n_features, n_classes), dtype=np.int8)\n",
    "    \n",
    "    #инициализация весов\n",
    "    for i in range(len(X)):\n",
    "        for xi in X[i]:\n",
    "            features[xi, y[i]] = 1\n",
    "            weights[xi, y[i]] += 1\n",
    "    idx = weights > 0\n",
    "    weights[idx] = np.log(weights[idx])\n",
    "\n",
    "    all_iter = 0\n",
    "    u = 0.0\n",
    "    for epoch in range(nb_epoch):\n",
    "        if verbose:\n",
    "            print 'Start epoch #%d\\t' % epoch,\n",
    "        # SGD\n",
    "        # ограничим сверху max_iter итерациями\n",
    "        loss = 0.\n",
    "        prev_logl = 0.\n",
    "        for iter_num in range(max_iter):\n",
    "            if verbose and (iter_num % (max_iter / 20) == 0):\n",
    "                print '.',\n",
    "            logl = 0.\n",
    "            ncorrect = 0\n",
    "\n",
    "            r = range(n_samples)\n",
    "            r = random.sample(r, batch_size)\n",
    "            iter_sample = 0\n",
    "            for i in r:\n",
    "\n",
    "                # вектор признаков(контекста)\n",
    "                x_vec = np.zeros(n_features, dtype=np.int8)\n",
    "                for j in X[i]:\n",
    "                    x_vec[j] += 1\n",
    "                iter_sample += 1\n",
    "\n",
    "                y_vec = np.zeros(weights.shape[1], dtype=np.int8)\n",
    "                y_vec[y[i]] = 1\n",
    "\n",
    "                all_iter += 1.0\n",
    "                eta = alpha ** (all_iter / n_samples)\n",
    "\n",
    "                # предсказываем вероятности\n",
    "                probas = predict(x_vec, weights)\n",
    "\n",
    "                # смотрим, правильно ли мы предсказали, это нужно только для verbose\n",
    "                if np.argmax(probas) == y[i]:\n",
    "                    ncorrect += 1\n",
    "\n",
    "                # считаем \"правдоподобие\"\n",
    "                logl += np.log(probas[y[i]])\n",
    "\n",
    "                # обновляем веса\n",
    "                # grad = np.outer(x_vec, probas)*features - np.outer(x_vec, y_vec )\n",
    "                idx = x_vec != 0\n",
    "                me = np.outer(x_vec[idx], probas) * features[idx]\n",
    "                ee = np.outer(x_vec[idx], y_vec)\n",
    "                weights[idx] -= (me - ee) * eta + weights[idx] * eta * C\n",
    "\n",
    "            if (iter_num > 0):\n",
    "                loss += (logl - prev_logl)\n",
    "            prev_logl = logl\n",
    "        if verbose:\n",
    "            print '\\tLoss: %.8f' % (loss / max_iter)\n",
    "    return weights"
   ]
  },
  {
   "cell_type": "code",
   "execution_count": 59,
   "metadata": {
    "collapsed": false
   },
   "outputs": [
    {
     "name": "stdout",
     "output_type": "stream",
     "text": [
      "Start epoch #0\t. . . . . . . . . . . . . . . . . . . . \tLoss: 0.01640967\n"
     ]
    }
   ],
   "source": [
    "# небольшой тест\n",
    "X = [[0, 1],\n",
    "     [2, 1],\n",
    "     [2, 3],\n",
    "     [2, 1],\n",
    "     [0, 1],\n",
    "     [2, 1, 4],\n",
    "     [2, 3, 4],\n",
    "     [2, 1, 5],\n",
    "     [0, 3, 5],\n",
    "     [0, 1, 5]]\n",
    "y = [0, 0, 1, 1, 0, 1, 1, 0, 0, 0]\n",
    "weights = fit(X, y, random_state=241, C=0.00001, nb_epoch=1)\n",
    "# print weights\n",
    "# print patterns\n",
    "x = np.zeros(6)\n",
    "x[0] = 1\n",
    "x[3] = 1\n",
    "pred = predict(x, weights)"
   ]
  },
  {
   "cell_type": "code",
   "execution_count": 60,
   "metadata": {
    "collapsed": false
   },
   "outputs": [],
   "source": [
    "digits_regex = re.compile('\\d')\n",
    "punc_regex = re.compile('[\\%\\(\\)\\-\\/\\:\\;\\<\\>\\«\\»\\,]')\n",
    "delim_regex = re.compile('([\\.])\\s+')"
   ]
  },
  {
   "cell_type": "code",
   "execution_count": 61,
   "metadata": {
    "collapsed": false
   },
   "outputs": [],
   "source": [
    "def read_and_tokenize(foldername):\n",
    "    '''\n",
    "    метод для считывания текстов из файлов папки\n",
    "    здесь применяется довольно простая токенизация\n",
    "    '''\n",
    "\n",
    "    word_counts = {}\n",
    "    tokenized_text = []\n",
    "    for path, subdirs, files in os.walk('data'):\n",
    "        for name in files:\n",
    "            filename = os.path.join(path, name)\n",
    "            with io.open(filename, 'r', encoding='utf-8') as data_file:\n",
    "                for line in data_file:\n",
    "                    if len(line) < 50:\n",
    "                        continue\n",
    "                    text = digits_regex.sub(u'0', line.lower())\n",
    "                    text = punc_regex.sub(u'', text)\n",
    "                    text = delim_regex.sub(r' \\1 ', text)\n",
    "                    for word in text.split():\n",
    "                        if not word:\n",
    "                            continue\n",
    "                        if word not in word_counts:\n",
    "                            word_counts[word] = 1\n",
    "                        else:\n",
    "                            word_counts[word] += 1\n",
    "                        tokenized_text.append(word)\n",
    "    word2index = {}\n",
    "    index2word = []\n",
    "    i = 0\n",
    "    filtered_text = []\n",
    "    for word in tokenized_text:\n",
    "        if word_counts[word] > 2:\n",
    "            if word not in word2index:\n",
    "                word2index[word] = i\n",
    "                index2word.append(word)\n",
    "                i += 1\n",
    "            filtered_text.append(word)\n",
    "\n",
    "\n",
    "    return filtered_text, word2index, index2word"
   ]
  },
  {
   "cell_type": "code",
   "execution_count": 62,
   "metadata": {
    "collapsed": true
   },
   "outputs": [],
   "source": [
    "def generate_train(tokenized_text, word2index,context_len = 4):\n",
    "    '''\n",
    "    метод для генерации обучающих данных\n",
    "    '''\n",
    "    X = []\n",
    "    y = []\n",
    "    for i, y_word in enumerate(tokenized_text):\n",
    "        x = []\n",
    "        for j in range(i - context_len, i):\n",
    "            if (j >= 0):\n",
    "                x_word = tokenized_text[j]\n",
    "                x.append(word2index[x_word])\n",
    "        if (len(x) > 0):\n",
    "            X.append(x)\n",
    "            y.append(word2index[y_word])\n",
    "    return X, y"
   ]
  },
  {
   "cell_type": "code",
   "execution_count": 63,
   "metadata": {
    "collapsed": false
   },
   "outputs": [],
   "source": [
    "tokenized_text, word2index, index2word = read_and_tokenize('data')      "
   ]
  },
  {
   "cell_type": "code",
   "execution_count": 64,
   "metadata": {
    "collapsed": false
   },
   "outputs": [
    {
     "name": "stdout",
     "output_type": "stream",
     "text": [
      "all words: 45825\n",
      "all unique words: 3872\n"
     ]
    }
   ],
   "source": [
    "unique_words = len(index2word)\n",
    "print 'all words:', len(tokenized_text)\n",
    "print 'all unique words:', unique_words"
   ]
  },
  {
   "cell_type": "code",
   "execution_count": 65,
   "metadata": {
    "collapsed": false
   },
   "outputs": [],
   "source": [
    "context_len = 4\n",
    "X,y = generate_train(tokenized_text, word2index,context_len=context_len)"
   ]
  },
  {
   "cell_type": "code",
   "execution_count": 66,
   "metadata": {
    "collapsed": false
   },
   "outputs": [
    {
     "name": "stdout",
     "output_type": "stream",
     "text": [
      "Start epoch #0\t. . . . . . . . . . . . . . . . . . . . \tLoss: 0.80140741\n",
      "Start epoch #1\t. . . . . . . . . . . . . . . . . . . . \tLoss: -0.16680696\n",
      "Start epoch #2\t. . . . . . . . . . . . . . . . . . . . \tLoss: -0.21839911\n"
     ]
    }
   ],
   "source": [
    "weights = fit(X, y, random_state=241, verbose=1, batch_size=32, nb_epoch=3, C=0.0001)"
   ]
  },
  {
   "cell_type": "code",
   "execution_count": 67,
   "metadata": {
    "collapsed": false
   },
   "outputs": [
    {
     "name": "stdout",
     "output_type": "stream",
     "text": [
      "GENRATED TEXT:\n",
      "комиссии по мнению в россии украины на а в также с из что к он с 0000 на в том\n"
     ]
    }
   ],
   "source": [
    "test = [word2index[word] for word in [u'путин']]\n",
    "last_index = index = test[-1]\n",
    "print 'GENRATED TEXT:'\n",
    "\n",
    "for i in range(20):\n",
    "    x = np.zeros(len(index2word))\n",
    "    x[test] = 1\n",
    "    pred = predict(x, weights)\n",
    "    indicies = pred.argsort()[::-1][:20]\n",
    "    for index in indicies:\n",
    "        if index in test:\n",
    "            continue\n",
    "        else:\n",
    "            break\n",
    "    last_index = int(index)\n",
    "    print index2word[index],\n",
    "    test.append(index)\n",
    "    if len(test) > context_len:\n",
    "        del test[0]"
   ]
  },
  {
   "cell_type": "markdown",
   "metadata": {},
   "source": [
    "# Идеи по улучшению\n",
    "* первое, что приходит на ум - это увеличить кол-во обучающей выборки\n",
    "* использовать в качестве контекста, не слова а символы с определнным окном(context_len) равным 40 или больше\n",
    "* использовать лематизацию или стемминг для словарных \"фич\", а затем скомбинировать с предыдущим пунктом(пока точно не представляю как)\n",
    "* модель работает немного медленно, а на больших текстах очень медленно. поэтому можно попробовать искать оптимальные параметры обучения. также можно переписать решение на С/С++ или на Сython"
   ]
  },
  {
   "cell_type": "markdown",
   "metadata": {},
   "source": [
    "# Использованная литература:\n",
    "* Tsuruoka Y., Tsujii J., Ananiadou S. Stochastic gradient descent training for l1-regularized log-linear models with cumulative penalty //Proceedings of the Joint Conference of the 47th Annual Meeting of the ACL and the 4th International Joint Conference on Natural Language Processing of the AFNLP: Volume 1-Volume 1. – Association for Computational Linguistics, 2009. – С. 477-485.\n",
    "* Smith N. A., Eisner J. Contrastive estimation: Training log-linear models on unlabeled data //Proceedings of the 43rd Annual Meeting on Association for Computational Linguistics. – Association for Computational Linguistics, 2005. – С. 354-362.\n",
    "* Smith N. A. Log-Linear Models // Revised version of thesis research proposal, 2004"
   ]
  }
 ],
 "metadata": {
  "kernelspec": {
   "display_name": "Python 2",
   "language": "python",
   "name": "python2"
  },
  "language_info": {
   "codemirror_mode": {
    "name": "ipython",
    "version": 2
   },
   "file_extension": ".py",
   "mimetype": "text/x-python",
   "name": "python",
   "nbconvert_exporter": "python",
   "pygments_lexer": "ipython2",
   "version": "2.7.11"
  }
 },
 "nbformat": 4,
 "nbformat_minor": 0
}
